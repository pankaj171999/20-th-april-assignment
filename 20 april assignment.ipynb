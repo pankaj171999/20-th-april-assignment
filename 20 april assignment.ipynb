{
 "cells": [
  {
   "cell_type": "code",
   "execution_count": null,
   "id": "0191c3b9-0be8-407d-bda3-a65a7306369b",
   "metadata": {},
   "outputs": [],
   "source": [
    "Q1(Ans) The k-nearest neighbors algorithm, also known as KNN or k-NN, is a non-parametric, \n",
    "supervised learning classifier, which uses proximity to make classifications or predictions about the grouping of an individual data point."
   ]
  },
  {
   "cell_type": "code",
   "execution_count": null,
   "id": "b36a8d2e-d108-4134-b128-4d00c5b97818",
   "metadata": {},
   "outputs": [],
   "source": [
    "Q2(Ans)The optimal K value usually found is the square root of N, where N is the total number of samples."
   ]
  },
  {
   "cell_type": "code",
   "execution_count": null,
   "id": "43b28258-cd9f-4dae-88b3-13f4b4f56b70",
   "metadata": {},
   "outputs": [],
   "source": [
    "Q3(Ans)Knn Classifier: Predicts a class by using the highest majority category among its k nearest neighbors. \n",
    "Knn Regression: Predicts a value by using the mean of the k nearest neighbors."
   ]
  },
  {
   "cell_type": "code",
   "execution_count": null,
   "id": "9214e358-0e59-4b5d-96e1-e3831ba49af3",
   "metadata": {},
   "outputs": [],
   "source": [
    "Q4(Ans)\n",
    "* Determine the number of nearest neighbours (K values).\n",
    "* Compute the distance between test sample and all the training samples.\n",
    "* Sort the distance and determine nearest neighbours based on the K-th minimum distance.\n",
    "* Assemble the categories of the nearest neighbours."
   ]
  },
  {
   "cell_type": "code",
   "execution_count": null,
   "id": "0bcfa259-e79c-4a36-b645-8ba0e36d3061",
   "metadata": {},
   "outputs": [],
   "source": [
    "Q5(Ans)Curse of dimensionality also describes the phenomenon where the feature space becomes increasingly \n",
    "sparse for an increasing number of dimensions of a fixed-size training dataset."
   ]
  },
  {
   "cell_type": "code",
   "execution_count": null,
   "id": "1aca81cd-1241-4adc-934f-bd734e7e128a",
   "metadata": {},
   "outputs": [],
   "source": [
    "Q6(Ans) Each sample  missing values are imputed using the mean value of the 'k'-neighbors found in the dataset."
   ]
  },
  {
   "cell_type": "code",
   "execution_count": null,
   "id": "f1748b79-118d-4820-87b2-b838100059dc",
   "metadata": {},
   "outputs": [],
   "source": [
    "Q7(Ans)KNN regression tries to predict the value of the output variable by using a local average. \n",
    "KNN classification attempts to predict the class to which the output variable belong by computing the local probability.\n",
    "\n",
    "K-NN algorithm can be used for Regression as well as for Classification but mostly it is used for the Classification problems."
   ]
  },
  {
   "cell_type": "code",
   "execution_count": null,
   "id": "f9bec9b8-c0e7-460f-b13b-472a290679c4",
   "metadata": {},
   "outputs": [],
   "source": [
    "Q8(Ans)                     Advantages\t                                             Disadvantages\n",
    "                      * Simple and Easy to Understand\t                      * Sensitive to Outliers\n",
    "                      *  Non-parametric\t                                      * Computationally Expensive\n",
    "                      * No Training Required\t                              * Requires Good Choice of K\n",
    "                      * Can Handle Large Datasets\t                          * Limited to Euclidean Distance"
   ]
  },
  {
   "cell_type": "code",
   "execution_count": null,
   "id": "1a0c30ca-91ad-4aaf-8697-2a045673a417",
   "metadata": {},
   "outputs": [],
   "source": [
    "Q9(Ans)Euclidean distance is the shortest path between source and destination which is a straight line.\n",
    "But Manhattan distance is sum of all the real distances between source(s) and destination(d) and each distance are always the straight lines.\n"
   ]
  },
  {
   "attachments": {
    "f496f715-c64b-4f35-a54e-052cabdafd4c.png": {
     "image/png": "[encoded data removed]"
    }
   },
   "cell_type": "markdown",
   "id": "42ff0995-16f5-433b-8a2a-2b483ff81da8",
   "metadata": {},
   "source": [
    "![image.png](attachment:f496f715-c64b-4f35-a54e-052cabdafd4c.png)"
   ]
  },
  {
   "cell_type": "code",
   "execution_count": null,
   "id": "bfe4cf28-e689-40f6-a7ec-f0abb8fb7e9d",
   "metadata": {},
   "outputs": [],
   "source": [
    "Q10(Ans)\n",
    "yes, feature scaling is crucial for the KNN algorithm, as it helps in preventing features with larger magnitudes \n",
    "from dominating the distance calculations."
   ]
  }
 ],
 "metadata": {
  "kernelspec": {
   "display_name": "Python 3 (ipykernel)",
   "language": "python",
   "name": "python3"
  },
  "language_info": {
   "codemirror_mode": {
    "name": "ipython",
    "version": 3
   },
   "file_extension": ".py",
   "mimetype": "text/x-python",
   "name": "python",
   "nbconvert_exporter": "python",
   "pygments_lexer": "ipython3",
   "version": "3.10.8"
  }
 },
 "nbformat": 4,
 "nbformat_minor": 5
}
